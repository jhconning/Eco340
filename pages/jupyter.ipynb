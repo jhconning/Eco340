{
 "cells": [
  {
   "cell_type": "markdown",
   "metadata": {},
   "source": [
    "# Jupyter notebooks and International Trade\n",
    "\n",
    "Many of the figures and graphs in the class slides were created using scientific python inside a [jupyter notebook](http://jupyter.org/). \n",
    "\n",
    "I will post links some of these notebooks here as they are written and cleaned up.  They should give a condensed summary of the key ideas and math behind the models and how to solve  for and graph things.  They can be considered useful as study aids for the course but some do go beyond the material required for the course. \n",
    "\n",
    "More will be posted as the class progresses through the topics and I polish-up these notes.\n",
    "\n",
    "## Notebooks\n",
    "\n",
    " * [The Ricardian Trade Model](Ricardian_trade)\n",
    " \n",
    "More to come.. Some jupyter [notebooks material](http://dev-ii-seminar.readthedocs.io/en/latest/index.html) from my Spring 2016 Graduate Center Development Economics class might also be of interest, in particular on the Specific Factors Model and Edgeworth boxes.\n",
    "\n",
    "The links above lead you to static renderings of the notebooks.  The executable jupyter notebooks for our course can be found on the [eco340 github repo](https://github.com/jhconning/Eco340) for this site ).  If you want to try running them [Microsoft Azure notebooks](https://notebooks.azure.com/)"
   ]
  },
  {
   "cell_type": "markdown",
   "metadata": {},
   "source": [
    "You can do lots of really interesting things with Jupyter notebooks.. do a web search and find out (as an aside-note this webpage content was also created inside a jupyter notebook). \n",
    "\n",
    "![](https://avatars3.githubusercontent.com/u/7388996?v=4&s=400)"
   ]
  }
 ],
 "metadata": {
  "hide_input": false,
  "kernelspec": {
   "display_name": "Python [default]",
   "language": "python",
   "name": "python3"
  },
  "language_info": {
   "codemirror_mode": {
    "name": "ipython",
    "version": 3
   },
   "file_extension": ".py",
   "mimetype": "text/x-python",
   "name": "python",
   "nbconvert_exporter": "python",
   "pygments_lexer": "ipython3",
   "version": "3.6.1"
  },
  "nikola": {
   "category": "",
   "date": "2017-09-06 23:47:27 UTC-04:00",
   "description": "",
   "link": "",
   "slug": "jupyter",
   "tags": "",
   "title": "jupyter",
   "type": "text"
  }
 },
 "nbformat": 4,
 "nbformat_minor": 2
}
