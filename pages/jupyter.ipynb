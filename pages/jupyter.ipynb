{
 "cells": [
  {
   "cell_type": "markdown",
   "metadata": {},
   "source": [
    "# Jupyter notebooks and International Trade\n",
    "\n",
    "Many of the figures and graphs in the class slides were created using scientific python inside a [jupyter notebook](http://jupyter.org/). \n",
    "\n",
    "I will post links some of these notebooks here as they are written and cleaned up.  They should give a condensed summary of the key ideas and math behind the models and how to solve  for and graph things.  They can be considered useful as study aids for the course but some do go beyond the material required for the course. \n",
    "\n",
    "More will be posted as the class progresses through the topics and I polish-up these notes.\n",
    "\n",
    "## Notebooks\n",
    "\n",
    " * [The Ricardian Trade Model](https://notebooks.azure.com/jhconning/libraries/Eco340/html/pages/Ricardian_Trade.ipynb)\n",
    " \n",
    "More to come.. Some jupyter [notebooks material](http://dev-ii-seminar.readthedocs.io/en/latest/index.html) from my Spring 2016 Graduate Center Development Economics class might also be of interest, in particular on the Specific Factors Model and Edgeworth boxes.\n",
    "\n",
    "The links above lead you to static renderings of the notebooks.  The executable jupyter notebooks for our course can be found on the [eco340 github repo](https://github.com/jhconning/Eco340) for this site ).  If you want to try running them [Microsoft Azure notebooks](https://notebooks.azure.com/)"
   ]
  },
  {
   "cell_type": "markdown",
   "metadata": {},
   "source": [
    "You can do lots of really interesting things with Jupyter notebooks.. do a web search and find out (as an aside-note this webpage content was also created inside a jupyter notebook). \n",
    "\n",
    "![](https://avatars3.githubusercontent.com/u/7388996?v=4&s=400)"
   ]
  }
 ],
 "metadata": {
  "hide_input": false,
  "kernelspec": {
   "name": "python3",
   "language": "python",
   "display_name": "Python 3"
  },
  "language_info": {
   "name": "python",
   "version": "3.6.2",
   "mimetype": "text/x-python",
   "codemirror_mode": {
    "name": "ipython",
    "version": 3.0
   },
   "pygments_lexer": "ipython3",
   "nbconvert_exporter": "python",
   "file_extension": ".py"
  },
  "nikola": {
   "category": "",
   "date": "2017-09-06 23:47:27 UTC-04:00",
   "description": "",
   "link": "",
   "slug": "jupyter",
   "tags": "",
   "title": "jupyter",
   "type": "text"
  },
  "kernel_info": {
   "name": "python3"
  },
  "nteract": {
   "version": "0.2.0"
  }
 },
 "nbformat": 4,
 "nbformat_minor": 0
}