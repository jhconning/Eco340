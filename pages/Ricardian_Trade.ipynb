{
 "cells": [
  {
   "cell_type": "markdown",
   "metadata": {
    "slideshow": {
     "slide_type": "slide"
    }
   },
   "source": [
    "# The Ricardian Trade Model"
   ]
  },
  {
   "cell_type": "markdown",
   "metadata": {
    "slideshow": {
     "slide_type": "slide"
    }
   },
   "source": [
    "## The Model\n",
    "\n",
    "#### Production Technologies\n",
    "\n",
    "The economy produces two goods $X$ and $Y$. \n",
    "\n",
    "Labor is the only input and there are $\\bar L$ workers."
   ]
  },
  {
   "cell_type": "markdown",
   "metadata": {
    "slideshow": {
     "slide_type": "fragment"
    }
   },
   "source": [
    "Production of $X$ using linear production technology:\n",
    "\n",
    "$$Q_X = MPL_X \\cdot L_X$$\n",
    "\n",
    "$MPL_X$ is the constant **marginal product of labor** in the $X$ sector measured in *units of good $X$ per unit labor*."
   ]
  },
  {
   "cell_type": "markdown",
   "metadata": {
    "slideshow": {
     "slide_type": "slide"
    }
   },
   "source": [
    "$Y$ sector production also linear:\n",
    "\n",
    "$$Q_Y = MPL_Y \\cdot L_Y$$\n",
    "\n",
    "$MPL_Y$ is the constant marginal product of labor in the $Y$ sector measured in *units of good $Y$ per unit labor*."
   ]
  },
  {
   "cell_type": "markdown",
   "metadata": {
    "slideshow": {
     "slide_type": "slide"
    }
   },
   "source": [
    "#### Labor resource constraint\n",
    "\n",
    "Total labor employed in the two sectors cannot exceed total available labor in the economy:\n",
    "\n",
    "$$L_X + L_Y = \\bar L$$"
   ]
  },
  {
   "cell_type": "markdown",
   "metadata": {
    "slideshow": {
     "slide_type": "slide"
    }
   },
   "source": [
    "#### Minimum labor requirements\n",
    "\n",
    "The production function \n",
    "\n",
    "$$Q_X = MPL_X \\cdot L_X$$ \n",
    "\n",
    "tells us the maximum units of output that can be made with $L_X$ units of labor. "
   ]
  },
  {
   "cell_type": "markdown",
   "metadata": {
    "slideshow": {
     "slide_type": "fragment"
    }
   },
   "source": [
    "Invert this to get:\n",
    "    \n",
    "$$L_X = \\frac{1}{MPL_X} Q_X$$\n",
    "\n",
    "We call \n",
    "\n",
    "$$a_{LX}=\\frac{1}{MPL_X}$$ \n",
    "\n",
    "the **minimum labor input required** to produce 1 more unit of $Q_X$"
   ]
  },
  {
   "cell_type": "markdown",
   "metadata": {
    "slideshow": {
     "slide_type": "slide"
    }
   },
   "source": [
    "Similarly for the other sector we call \n",
    "\n",
    "$$a_{LY}=\\frac{1}{MPL_Y}$$ \n",
    "\n",
    "the **minimum labor input required** to produce 1 more unit of $Q_Y$"
   ]
  },
  {
   "cell_type": "markdown",
   "metadata": {
    "slideshow": {
     "slide_type": "slide"
    }
   },
   "source": [
    "### Competition leads firms to earn zero profits in equilibrium\n",
    "\n",
    "$$\n",
    "\\begin{align}\n",
    "  Profits &= TR - TC = 0 \\\\\n",
    "  & = P_X \\cdot MPL_X \\cdot L_X - w \\cdot L_X = 0 \n",
    "\\end{align}\n",
    "$$"
   ]
  },
  {
   "cell_type": "markdown",
   "metadata": {
    "slideshow": {
     "slide_type": "fragment"
    }
   },
   "source": [
    "Implies firms hire labor until the marginal value product equals the market wage:\n",
    "\n",
    "$$P_X \\cdot MPL_X = w  $$"
   ]
  },
  {
   "cell_type": "markdown",
   "metadata": {
    "slideshow": {
     "slide_type": "fragment"
    }
   },
   "source": [
    "Workers' *real wage* (measured in terms of either good):\n",
    "\n",
    "$$\\frac{w}{P_X} = MPL_X $$\n",
    "\n",
    "$$\\frac{w}{P_Y} = MPL_Y  $$"
   ]
  },
  {
   "cell_type": "markdown",
   "metadata": {
    "slideshow": {
     "slide_type": "slide"
    }
   },
   "source": [
    "#### Nominal and Real Wages in the Closed Economy\n",
    "\n",
    "Workers move to whichever sector of firm pays highest wage. In a competitive equilibrium every worker earns same wage no matter what sector they work in."
   ]
  },
  {
   "cell_type": "markdown",
   "metadata": {
    "slideshow": {
     "slide_type": "fragment"
    }
   },
   "source": [
    "**nominal wage $w$:**  \\$s per unit of labor (e.g. \\$s per hour).\n",
    "\n",
    "**real wage:** what $w$ can purchase measured in real goods \n",
    "(e.g. units of good $X$ per hour)."
   ]
  },
  {
   "cell_type": "markdown",
   "metadata": {
    "slideshow": {
     "slide_type": "slide"
    }
   },
   "source": [
    "Two ways to measure wage paid per unit of labor:\n",
    "\n",
    "$$\\frac{w}{P_X} = MPL_X \\, \\,\\,\\, \\text{(units of good X per unit of labor)}$$\n",
    "\n",
    "$$\\frac{w}{P_Y} = MPL_Y\\, \\,\\,\\, \\text{(units of good X per unit of labor)}$$"
   ]
  },
  {
   "cell_type": "markdown",
   "metadata": {
    "slideshow": {
     "slide_type": "fragment"
    }
   },
   "source": [
    "**Important**: these are **not** different wages in each sector. They are two ways to measure the purchasing power of workers' wage. \n",
    "\n",
    "*There is only one wage in the economy* and all workers earn the same wage no matter what sector or firm they work in."
   ]
  },
  {
   "cell_type": "markdown",
   "metadata": {
    "slideshow": {
     "slide_type": "subslide"
    }
   },
   "source": [
    "We could also measure the real wage in terms of how many CPI baskets can be bought with nominal wage $w$. \n",
    "\n",
    "For this we just define a price index call it $P_B$ as the cost of the CPI basket of goods (e.g. one unit of good X and one unit of good Y).\n",
    "\n",
    "This CPI basket real wage is then just a weighted average of the above real wage measures."
   ]
  },
  {
   "cell_type": "markdown",
   "metadata": {
    "slideshow": {
     "slide_type": "slide"
    }
   },
   "source": [
    "#### Equilibrium domestic relative prices\n",
    "\n",
    "We can invert production functions to get minimal labor input requirements as a function of outputs:\n",
    "    \n",
    "$$L_X = \\frac{1}{MPL_X} Q_X$$\n",
    "\n",
    "$$L_Y = \\frac{1}{MPL_Y} Q_Y$$\n",
    "\n",
    "Here  $a_{Li} = \\frac{1}{MPL_i}$ is interpreted as the **unit labor requirement** in sector $i$, measured in *units of labor unit of good $i$*.  "
   ]
  },
  {
   "cell_type": "markdown",
   "metadata": {
    "slideshow": {
     "slide_type": "slide"
    }
   },
   "source": [
    "Note if the market for labor is competitive profit-maximizing firms will hire workers up to the point where the **marginal value product of labor** of the last worker hired is equal to the market wage. \n",
    "\n",
    "$$P_X \\cdot MPL_X = w$$\n",
    "\n",
    "$$P_Y \\cdot MPL_Y = w$$"
   ]
  },
  {
   "cell_type": "markdown",
   "metadata": {
    "slideshow": {
     "slide_type": "slide"
    }
   },
   "source": [
    "This is the same thing as saying that competitive firms are led to price at **marginal cost** (note we just inverted the expressions on last page):\n",
    "\n",
    "$$P_X = MC_X = w \\cdot \\frac{1}{MPL_X}$$\n",
    "and\n",
    "$$P_Y = MC_Y = w \\cdot \\frac{1}{MPL_Y}$$"
   ]
  },
  {
   "cell_type": "markdown",
   "metadata": {
    "slideshow": {
     "slide_type": "fragment"
    }
   },
   "source": [
    "Since labor is the only input marginal cost is just the wage times minimum labor required to produce one more unit of the good."
   ]
  },
  {
   "cell_type": "markdown",
   "metadata": {
    "slideshow": {
     "slide_type": "slide"
    }
   },
   "source": [
    "The **domestic relative price of good $X$ measured in terms of good $Y$** is just given by the ratio of these marginal costs:\n",
    "\n",
    "$$\\frac{P_X}{P_Y}  = \\frac{MPL_Y}{MPL_X}$$"
   ]
  },
  {
   "cell_type": "markdown",
   "metadata": {
    "slideshow": {
     "slide_type": "fragment"
    }
   },
   "source": [
    "Note that we can find equilibrium relative prices even having yet said anything about consumer preferences (and hence demand) or the size of the labor endowment. This is an interesting and important property of this **Classical** model with Ricardian linear production technologies. "
   ]
  },
  {
   "cell_type": "markdown",
   "metadata": {
    "slideshow": {
     "slide_type": "slide"
    }
   },
   "source": [
    "Another way to see this: Competition means zero profits so all of the firms' sales of good $X$ go to the wage bill.  \n",
    "\n",
    "\n",
    "$$\\frac{MPL_X \\cdot L_X}{L_X} = \\frac{\\text{  Output in the X sector}}{\\text{Workers in X sector}}\n",
    "  = MPL_X$$"
   ]
  },
  {
   "cell_type": "markdown",
   "metadata": {
    "slideshow": {
     "slide_type": "skip"
    }
   },
   "source": [
    "#### notebook preliminaries\n",
    "\n",
    "Import matplotlib's pyplot, numpy and other python libraries."
   ]
  },
  {
   "cell_type": "code",
   "execution_count": 1,
   "metadata": {
    "collapsed": true,
    "slideshow": {
     "slide_type": "skip"
    }
   },
   "outputs": [],
   "source": [
    "from ipywidgets import *\n",
    "import numpy as np\n",
    "import matplotlib.pyplot as plt\n",
    "from ipywidgets import interact, fixed\n",
    "%matplotlib inline"
   ]
  },
  {
   "cell_type": "markdown",
   "metadata": {
    "slideshow": {
     "slide_type": "skip"
    }
   },
   "source": [
    "Set style and other parameters for matplotlib plots:"
   ]
  },
  {
   "cell_type": "code",
   "execution_count": 2,
   "metadata": {
    "collapsed": true,
    "slideshow": {
     "slide_type": "skip"
    }
   },
   "outputs": [],
   "source": [
    "plt.style.use('bmh')\n",
    "plt.rcParams[\"figure.figsize\"] = [7,7]\n",
    "plt.rcParams[\"axes.spines.right\"] = False\n",
    "plt.rcParams[\"axes.spines.top\"] = False\n",
    "plt.rcParams[\"font.size\"] = 18"
   ]
  },
  {
   "cell_type": "markdown",
   "metadata": {
    "slideshow": {
     "slide_type": "slide"
    }
   },
   "source": [
    "## An example economy"
   ]
  },
  {
   "cell_type": "code",
   "execution_count": 3,
   "metadata": {
    "collapsed": true,
    "slideshow": {
     "slide_type": "skip"
    }
   },
   "outputs": [],
   "source": [
    "LBAR = 100\n",
    "\n",
    "MPLX = 1\n",
    "MPLY = 1"
   ]
  },
  {
   "cell_type": "code",
   "execution_count": 4,
   "metadata": {
    "slideshow": {
     "slide_type": "skip"
    }
   },
   "outputs": [],
   "source": [
    "NAMEX = 'Good X'\n",
    "NAMEY = 'Good Y'\n",
    "\n",
    "XMAX = LBAR*MPLX*4   # for plot bounds\n",
    "YMAX = LBAR*MPLY*4\n",
    "N = 50      # num of datapoints to plot\n",
    "QX =  np.linspace(0, XMAX, N)"
   ]
  },
  {
   "cell_type": "markdown",
   "metadata": {
    "slideshow": {
     "slide_type": "skip"
    }
   },
   "source": [
    "These will be used to plot Home's production possibility frontier (PPF) for any set of $MPL_X$, $MPL_Y$ and $\\bar L$."
   ]
  },
  {
   "cell_type": "code",
   "execution_count": 5,
   "metadata": {
    "collapsed": true,
    "slideshow": {
     "slide_type": "skip"
    }
   },
   "outputs": [],
   "source": [
    "def ppf(mplx, mply, lbar, show = True, title='Home'):   \n",
    "    '''Plot a linear PPF diagram \n",
    "       show == False delays plt.show() to allow other elements to be plotted first'''\n",
    "    qy = mply*lbar - (mply/mplx) * QX\n",
    "    plt.plot(QX, qy, linewidth=2, label='PPF')\n",
    "    plt.axis([0,XMAX,0,YMAX])\n",
    "    plt.xlabel(NAMEX), plt.ylabel(NAMEY), plt.title(title)\n",
    "    plt.text(0.3*XMAX, 0.9*YMAX, \n",
    "             r'   $\\frac{MPL_Y}{MPL_X}=$'+'{:3.2f}'.format(mply/mplx))\n",
    "    if show: #use False for subplots\n",
    "        plt.show();"
   ]
  },
  {
   "cell_type": "code",
   "execution_count": 6,
   "metadata": {
    "slideshow": {
     "slide_type": "fragment"
    }
   },
   "outputs": [
    {
     "data": {
      "image/png": "[encoded data removed]",
      "text/plain": [
       "<matplotlib.figure.Figure at 0x3ebaf28>"
      ]
     },
     "metadata": {},
     "output_type": "display_data"
    }
   ],
   "source": [
    "ppf(mplx=2, mply=1, lbar=200)"
   ]
  },
  {
   "cell_type": "markdown",
   "metadata": {
    "slideshow": {
     "slide_type": "slide"
    }
   },
   "source": [
    "### Interactive diagram \n",
    "Visible/interactive if running a jupyter server."
   ]
  },
  {
   "cell_type": "code",
   "execution_count": 7,
   "metadata": {
    "slideshow": {
     "slide_type": "fragment"
    }
   },
   "outputs": [
    {
     "name": "stderr",
     "output_type": "stream",
     "text": [
      "Widget Javascript not detected.  It may not be installed or enabled properly.\n"
     ]
    },
    {
     "data": {
      "application/vnd.jupyter.widget-view+json": {
       "model_id": "ab9f59645719483780566a26ec387692"
      }
     },
     "metadata": {},
     "output_type": "display_data"
    }
   ],
   "source": [
    "interact(ppf, mplx=(0.5,2,0.1), mply=(0.5,2,0.1), lbar=(50, 200, 10),show=fixed(True), title=fixed('Home'));"
   ]
  },
  {
   "cell_type": "markdown",
   "metadata": {
    "slideshow": {
     "slide_type": "slide"
    }
   },
   "source": [
    "## Gains to Opening to Trade"
   ]
  },
  {
   "cell_type": "code",
   "execution_count": 8,
   "metadata": {
    "slideshow": {
     "slide_type": "skip"
    }
   },
   "outputs": [],
   "source": [
    "def twopane(mplx, mply, lbar, mplfx, mplfy, lbarf):\n",
    "    foreign = ppf\n",
    "    f1 = plt.figure(1, figsize =(12,12))\n",
    "    plt.subplot(121, aspect='equal')\n",
    "    ppf(mplx, mply, lbar, show = False)\n",
    "    plt.subplot(122, aspect='equal')\n",
    "    foreign(mplfx, mplfy, lbarf, show=False, title='Foreign')\n",
    "    plt.ylabel('');"
   ]
  },
  {
   "cell_type": "markdown",
   "metadata": {
    "slideshow": {
     "slide_type": "slide"
    }
   },
   "source": [
    "### A two country model\n",
    "Technologies and hence domestic relative prices are different in two countries:"
   ]
  },
  {
   "cell_type": "code",
   "execution_count": 9,
   "metadata": {
    "slideshow": {
     "slide_type": "fragment"
    }
   },
   "outputs": [
    {
     "data": {
      "image/png": "[encoded data removed]",
      "text/plain": [
       "<matplotlib.figure.Figure at 0x87ab860>"
      ]
     },
     "metadata": {},
     "output_type": "display_data"
    }
   ],
   "source": [
    "twopane(2, 1, 200, 1, 2, 200)"
   ]
  },
  {
   "cell_type": "code",
   "execution_count": 10,
   "metadata": {
    "collapsed": true,
    "slideshow": {
     "slide_type": "skip"
    }
   },
   "outputs": [],
   "source": [
    "def homeopen(pw, mplx, mply, lbar, show=True, title='Home'):\n",
    "    ppf(mplx, mply, lbar, show=False, title=title)\n",
    "    if pw>(mplx/mply):\n",
    "        plt.plot(QX, lbar*mply -pw*QX, ':')\n",
    "    else:\n",
    "        plt.plot(QX, lbar*mplx*pw -pw*QX, ':')"
   ]
  },
  {
   "cell_type": "markdown",
   "metadata": {
    "slideshow": {
     "slide_type": "slide"
    }
   },
   "source": [
    "## Home opens to Trade\n",
    "\n",
    "Suppose $MPL_X=2$ and $MPL_Y=1$. Home's domestic relative price is:\n",
    "\n",
    "$$\\frac{MPL_Y}{MPL_X}= \\frac{1}{2}$$\n",
    "\n",
    "Tells us the **opportunity cost of producing one unit of good X** measured in terms of good Y at Home."
   ]
  },
  {
   "cell_type": "markdown",
   "metadata": {
    "slideshow": {
     "slide_type": "fragment"
    }
   },
   "source": [
    "Home is a small open economy. "
   ]
  },
  {
   "cell_type": "markdown",
   "metadata": {
    "slideshow": {
     "slide_type": "slide"
    }
   },
   "source": [
    "Home's domestic relative price:\n",
    "\n",
    "$$\\frac{P_X}{P_Y}=\\frac{MPL_Y}{MPL_X}= \\frac{1}{2}$$"
   ]
  },
  {
   "cell_type": "markdown",
   "metadata": {
    "slideshow": {
     "slide_type": "fragment"
    }
   },
   "source": [
    "The world relative price \n",
    "\n",
    "$$\\frac{P^w_X}{P^w_Y} = 1$$"
   ]
  },
  {
   "cell_type": "markdown",
   "metadata": {
    "slideshow": {
     "slide_type": "fragment"
    }
   },
   "source": [
    "**Home is a low opportunity cost producer of good $X$.**"
   ]
  },
  {
   "cell_type": "markdown",
   "metadata": {
    "slideshow": {
     "slide_type": "fragment"
    }
   },
   "source": [
    "i.e. Home has a **comparative advantage in the production of good X**"
   ]
  },
  {
   "cell_type": "code",
   "execution_count": 11,
   "metadata": {
    "slideshow": {
     "slide_type": "slide"
    }
   },
   "outputs": [
    {
     "data": {
      "image/png": "[encoded data removed]",
      "text/plain": [
       "<matplotlib.figure.Figure at 0x8c86358>"
      ]
     },
     "metadata": {},
     "output_type": "display_data"
    }
   ],
   "source": [
    "homeopen(pw=1, mplx=2,mply=1,lbar=100, title='Home opens to trade')\n",
    "plt.show()"
   ]
  },
  {
   "cell_type": "markdown",
   "metadata": {
    "slideshow": {
     "slide_type": "slide"
    }
   },
   "source": [
    "### Foreign opens to trade"
   ]
  },
  {
   "cell_type": "code",
   "execution_count": 12,
   "metadata": {
    "slideshow": {
     "slide_type": "slide"
    }
   },
   "outputs": [
    {
     "data": {
      "image/png": "[encoded data removed]",
      "text/plain": [
       "<matplotlib.figure.Figure at 0x8c7c2e8>"
      ]
     },
     "metadata": {},
     "output_type": "display_data"
    }
   ],
   "source": [
    "homeopen(pw=1, mplx=1,mply=2,lbar=100, title='open to trade')\n",
    "plt.show()"
   ]
  }
 ],
 "metadata": {
  "celltoolbar": "Slideshow",
  "hide_input": false,
  "kernelspec": {
   "display_name": "Python [default]",
   "language": "python",
   "name": "python3"
  },
  "language_info": {
   "codemirror_mode": {
    "name": "ipython",
    "version": 3
   },
   "file_extension": ".py",
   "mimetype": "text/x-python",
   "name": "python",
   "nbconvert_exporter": "python",
   "pygments_lexer": "ipython3",
   "version": "3.6.2"
  },
  "nikola": {
   "category": "",
   "date": "2017-08-28 00:26:05 UTC-04:00",
   "description": "",
   "link": "",
   "slug": "Ricardian Trade",
   "tags": "",
   "title": "Ricardian Trade",
   "type": "text"
  },
  "varInspector": {
   "cols": {
    "lenName": 16,
    "lenType": 16,
    "lenVar": 40
   },
   "kernels_config": {
    "python": {
     "delete_cmd_postfix": "",
     "delete_cmd_prefix": "del ",
     "library": "var_list.py",
     "varRefreshCmd": "print(var_dic_list())"
    },
    "r": {
     "delete_cmd_postfix": ") ",
     "delete_cmd_prefix": "rm(",
     "library": "var_list.r",
     "varRefreshCmd": "cat(var_dic_list()) "
    }
   },
   "types_to_exclude": [
    "module",
    "function",
    "builtin_function_or_method",
    "instance",
    "_Feature"
   ],
   "window_display": false
  },
  "widgets": {
   "application/vnd.jupyter.widget-state+json": {
    "state": {
     "00c6d420b92e4875b9a60f4c8c1769fb": {
      "model_module": "jupyter-js-widgets",
      "model_module_version": "~2.1.4",
      "model_name": "LayoutModel",
      "state": {
       "_model_module_version": "~2.1.4",
       "_view_module_version": "~2.1.4"
      }
     },
     "0dde65a3865045a3a79a28def857b426": {
      "model_module": "jupyter-js-widgets",
      "model_module_version": "~2.1.4",
      "model_name": "LayoutModel",
      "state": {
       "_model_module_version": "~2.1.4",
       "_view_module_version": "~2.1.4"
      }
     },
     "1b6122c63de74c1e98de65beb8ff39ba": {
      "model_module": "jupyter-js-widgets",
      "model_module_version": "~2.1.4",
      "model_name": "LayoutModel",
      "state": {
       "_model_module_version": "~2.1.4",
       "_view_module_version": "~2.1.4"
      }
     },
     "1ebb7078ac5e4131a4837614b1a4b5e7": {
      "model_module": "jupyter-js-widgets",
      "model_module_version": "~2.1.4",
      "model_name": "LayoutModel",
      "state": {
       "_model_module_version": "~2.1.4",
       "_view_module_version": "~2.1.4"
      }
     },
     "1f0200df7dac4f40a7cfe515ac3e0fee": {
      "model_module": "jupyter-js-widgets",
      "model_module_version": "~2.1.4",
      "model_name": "LayoutModel",
      "state": {
       "_model_module_version": "~2.1.4",
       "_view_module_version": "~2.1.4"
      }
     },
     "2bbb04848f3f4fc5a05b246c8bae37ba": {
      "model_module": "jupyter-js-widgets",
      "model_module_version": "~2.1.4",
      "model_name": "SliderStyleModel",
      "state": {
       "_model_module_version": "~2.1.4",
       "_view_module_version": "~2.1.4"
      }
     },
     "48e61fbc5ef24affa4d4fc62a0557e6a": {
      "model_module": "jupyter-js-widgets",
      "model_module_version": "~2.1.4",
      "model_name": "FloatSliderModel",
      "state": {
       "_model_module_version": "~2.1.4",
       "_view_module_version": "~2.1.4",
       "description": "mply",
       "layout": "IPY_MODEL_1f0200df7dac4f40a7cfe515ac3e0fee",
       "max": 2,
       "min": 0.5,
       "step": 0.1,
       "value": 1.5
      }
     },
     "48f4b338b4be4e47a8c59b55ecab65c9": {
      "model_module": "jupyter-js-widgets",
      "model_module_version": "~2.1.4",
      "model_name": "LayoutModel",
      "state": {
       "_model_module_version": "~2.1.4",
       "_view_module_version": "~2.1.4"
      }
     },
     "4d6daf6f54394b76b7c6eb394b3a8d80": {
      "model_module": "jupyter-js-widgets",
      "model_module_version": "~2.1.4",
      "model_name": "FloatSliderModel",
      "state": {
       "_model_module_version": "~2.1.4",
       "_view_module_version": "~2.1.4",
       "description": "mplx",
       "layout": "IPY_MODEL_00c6d420b92e4875b9a60f4c8c1769fb",
       "max": 2,
       "min": 0.5,
       "step": 0.1,
       "value": 1.2000000000000002
      }
     },
     "5d48d61506c14b858c5a407ca8caf0ad": {
      "model_module": "jupyter-js-widgets",
      "model_module_version": "~2.1.4",
      "model_name": "OutputModel",
      "state": {
       "_dom_classes": [],
       "_model_module": "jupyter-js-widgets",
       "_model_module_version": "~2.1.4",
       "_view_module": "jupyter-js-widgets",
       "_view_module_version": "~2.1.4",
       "layout": "IPY_MODEL_a8079bfd6220442da8d8d3ebeb6383af",
       "msg_throttle": 1
      }
     },
     "5fdda76fb4004c9c99f35104093c2193": {
      "model_module": "jupyter-js-widgets",
      "model_module_version": "~2.1.4",
      "model_name": "OutputModel",
      "state": {
       "_dom_classes": [],
       "_model_module": "jupyter-js-widgets",
       "_model_module_version": "~2.1.4",
       "_view_module": "jupyter-js-widgets",
       "_view_module_version": "~2.1.4",
       "layout": "IPY_MODEL_1ebb7078ac5e4131a4837614b1a4b5e7",
       "msg_throttle": 1
      }
     },
     "7a6e1b6c07e542159951731058573437": {
      "model_module": "jupyter-js-widgets",
      "model_module_version": "~2.1.4",
      "model_name": "LayoutModel",
      "state": {
       "_model_module_version": "~2.1.4",
       "_view_module_version": "~2.1.4"
      }
     },
     "7d27e1fb405f4e58b7a61ee76a1dcda4": {
      "model_module": "jupyter-js-widgets",
      "model_module_version": "~2.1.4",
      "model_name": "VBoxModel",
      "state": {
       "_dom_classes": [
        "widget-interact"
       ],
       "_model_module_version": "~2.1.4",
       "_view_module_version": "~2.1.4",
       "children": [
        "IPY_MODEL_9dfb612223344140b83b4969f7c11de5",
        "IPY_MODEL_e344f54e03ea4570a22f5319479163d3",
        "IPY_MODEL_fb9206259cb94461b7095da9795bf9b3",
        "IPY_MODEL_5fdda76fb4004c9c99f35104093c2193"
       ],
       "layout": "IPY_MODEL_48f4b338b4be4e47a8c59b55ecab65c9"
      }
     },
     "96ca220ef8e448068ab7d1e7a5dce359": {
      "model_module": "jupyter-js-widgets",
      "model_module_version": "~2.1.4",
      "model_name": "LayoutModel",
      "state": {
       "_model_module_version": "~2.1.4",
       "_view_module_version": "~2.1.4"
      }
     },
     "9b389322e83f4aaabc324b0eaee5a88e": {
      "model_module": "jupyter-js-widgets",
      "model_module_version": "~2.1.4",
      "model_name": "LayoutModel",
      "state": {
       "_model_module_version": "~2.1.4",
       "_view_module_version": "~2.1.4"
      }
     },
     "9dfb612223344140b83b4969f7c11de5": {
      "model_module": "jupyter-js-widgets",
      "model_module_version": "~2.1.4",
      "model_name": "FloatSliderModel",
      "state": {
       "_model_module_version": "~2.1.4",
       "_view_module_version": "~2.1.4",
       "description": "mplx",
       "layout": "IPY_MODEL_7a6e1b6c07e542159951731058573437",
       "max": 2,
       "min": 0.5,
       "step": 0.1,
       "value": 1.2000000000000002
      }
     },
     "a8079bfd6220442da8d8d3ebeb6383af": {
      "model_module": "jupyter-js-widgets",
      "model_module_version": "~2.1.4",
      "model_name": "LayoutModel",
      "state": {
       "_model_module_version": "~2.1.4",
       "_view_module_version": "~2.1.4"
      }
     },
     "aa7a022dc2fa42bebc6b107822c4fb78": {
      "model_module": "jupyter-js-widgets",
      "model_module_version": "~2.1.4",
      "model_name": "VBoxModel",
      "state": {
       "_dom_classes": [
        "widget-interact"
       ],
       "_model_module_version": "~2.1.4",
       "_view_module_version": "~2.1.4",
       "children": [
        "IPY_MODEL_4d6daf6f54394b76b7c6eb394b3a8d80",
        "IPY_MODEL_48e61fbc5ef24affa4d4fc62a0557e6a",
        "IPY_MODEL_d170545078944c8495b8eaebf0cbd0fc",
        "IPY_MODEL_5d48d61506c14b858c5a407ca8caf0ad"
       ],
       "layout": "IPY_MODEL_0dde65a3865045a3a79a28def857b426"
      }
     },
     "d170545078944c8495b8eaebf0cbd0fc": {
      "model_module": "jupyter-js-widgets",
      "model_module_version": "~2.1.4",
      "model_name": "IntSliderModel",
      "state": {
       "_model_module_version": "~2.1.4",
       "_view_module_version": "~2.1.4",
       "description": "lbar",
       "layout": "IPY_MODEL_9b389322e83f4aaabc324b0eaee5a88e",
       "max": 200,
       "min": 50,
       "step": 10,
       "style": "IPY_MODEL_2bbb04848f3f4fc5a05b246c8bae37ba",
       "value": 150
      }
     },
     "e344f54e03ea4570a22f5319479163d3": {
      "model_module": "jupyter-js-widgets",
      "model_module_version": "~2.1.4",
      "model_name": "FloatSliderModel",
      "state": {
       "_model_module_version": "~2.1.4",
       "_view_module_version": "~2.1.4",
       "description": "mply",
       "layout": "IPY_MODEL_1b6122c63de74c1e98de65beb8ff39ba",
       "max": 2,
       "min": 0.5,
       "step": 0.1,
       "value": 1.2000000000000002
      }
     },
     "fabe72ed534e4fed819b8ac403288be8": {
      "model_module": "jupyter-js-widgets",
      "model_module_version": "~2.1.4",
      "model_name": "SliderStyleModel",
      "state": {
       "_model_module_version": "~2.1.4",
       "_view_module_version": "~2.1.4"
      }
     },
     "fb9206259cb94461b7095da9795bf9b3": {
      "model_module": "jupyter-js-widgets",
      "model_module_version": "~2.1.4",
      "model_name": "IntSliderModel",
      "state": {
       "_model_module_version": "~2.1.4",
       "_view_module_version": "~2.1.4",
       "description": "lbar",
       "layout": "IPY_MODEL_96ca220ef8e448068ab7d1e7a5dce359",
       "max": 200,
       "min": 50,
       "step": 10,
       "style": "IPY_MODEL_fabe72ed534e4fed819b8ac403288be8",
       "value": 120
      }
     }
    },
    "version_major": 1,
    "version_minor": 0
   }
  }
 },
 "nbformat": 4,
 "nbformat_minor": 2
}
