{
 "cells": [
  {
   "cell_type": "markdown",
   "metadata": {},
   "source": [
    "# The Ricardian Trade Model"
   ]
  },
  {
   "cell_type": "markdown",
   "metadata": {},
   "source": [
    "## The Model\n",
    "\n",
    "#### Production Technologies\n",
    "\n",
    "The economy produces tow goods $X$ and $Y$. Labor is the only input into production and there are a total of $\\bar L$ workers. Production in the $X$ sector takes place using a linear constant returns to scaleproduction technology. If $L_X$ workers are employed in the sector total output will be:\n",
    "\n",
    "$$Q_X = MPL_X \\cdot L_X$$\n",
    "\n",
    "$MPL_X$ is the constant **marginal product of labor** in the $X$ sector measured in *units of good $X$ per unit labor*.\n",
    "\n",
    "Production in the $Y$ sector takes place using a linear constant returns to scale production technology. If $L_Y$ workers are employed in the sector total output will be:\n",
    "\n",
    "$$Q_Y = MPL_Y \\cdot L_Y$$\n",
    "\n",
    "$MPL_Y$ is the constant marginal product of labor in the $Y$ sector measured in *units of good $Y$ per unit labor*.\n",
    "\n",
    "#### Labor resource constraint\n",
    "\n",
    "Total labor employed in the two sectors cannot exceed total available labor in the economy:\n",
    "\n",
    "$$L_X + L_Y = \\bar L$$"
   ]
  },
  {
   "cell_type": "markdown",
   "metadata": {},
   "source": [
    "#### Equilibrium domestic relative prices\n",
    "\n",
    "We can turn around the first two equations to get labor input requirements as a function of outputs:\n",
    "    \n",
    "$$L_X = \\frac{1}{MPL_X} Q_X$$\n",
    "$$L_Y = \\frac{1}{MPL_Y} Q_Y$$\n",
    "\n",
    "Here  $a_{Li} = \\frac{1}{MPL_i}$ is interpreted as the **unit labor requirement** in sector $i$, measured in *units of labor unit of good $i$*.  \n",
    "\n",
    "Note that firms in each sector facing a competitive market for labor will hire workers up to the point where the **marginal value product of labor** in sector $i$ is equal to the market wage:\n",
    "\n",
    "$$P_X \\cdot MPL_X = w = P_Y \\cdot MPL_Y$$\n",
    "\n",
    "We can re-arrange these to find expressions for the **marginal cost** of producing one more unit of good $X$ or good $Y$.\n",
    "\n",
    "$$MC_X = w \\cdot \\frac{1}{MPL_X} = P_X$$\n",
    "and\n",
    "$$MC_Y = w \\cdot \\frac{1}{MPL_Y} = P_Y$$\n",
    "\n",
    "Given the linear production function marginal cost is constant and equals average cost at any level of output."
   ]
  },
  {
   "cell_type": "markdown",
   "metadata": {},
   "source": [
    "The ratio of these last two gives us an expression for the equilibrium **domestic relative price of good $X$ measured in terms of good $Y$**\n",
    "\n",
    "$$\\frac{P_X}{P_Y}  = \\frac{MPL_Y}{MPL_X}$$\n",
    "\n",
    "An interesting and important property of this Classical Ricardian linear production technology model is thatwe can find this equilibrium relative prices can be solved for independently of the nature of consumer preferences or the size of the labor endowment. These relative prices are determined entirely by the ratio of these two constant marginal products."
   ]
  },
  {
   "cell_type": "markdown",
   "metadata": {},
   "source": [
    "#### notebook preliminaries\n",
    "\n",
    "Import matplotlib's pyplot, numpy and other python libraries."
   ]
  },
  {
   "cell_type": "code",
   "execution_count": 1,
   "metadata": {
    "collapsed": true
   },
   "outputs": [],
   "source": [
    "from ipywidgets import *\n",
    "import numpy as np\n",
    "import matplotlib.pyplot as plt\n",
    "from ipywidgets import interact, fixed\n",
    "%matplotlib inline"
   ]
  },
  {
   "cell_type": "markdown",
   "metadata": {},
   "source": [
    "Set style and other parameters for matplotlib plots:"
   ]
  },
  {
   "cell_type": "code",
   "execution_count": 2,
   "metadata": {
    "collapsed": true
   },
   "outputs": [],
   "source": [
    "plt.style.use('bmh')\n",
    "plt.rcParams[\"figure.figsize\"] = [7,7]\n",
    "plt.rcParams[\"axes.spines.right\"] = False\n",
    "plt.rcParams[\"axes.spines.top\"] = False\n",
    "plt.rcParams[\"font.size\"] = 18"
   ]
  },
  {
   "cell_type": "markdown",
   "metadata": {},
   "source": [
    "## Technology and endowments\n",
    "Let's start with an example economy"
   ]
  },
  {
   "cell_type": "code",
   "execution_count": 3,
   "metadata": {
    "collapsed": true
   },
   "outputs": [],
   "source": [
    "LBAR = 100\n",
    "MPLX = 1\n",
    "MPLY = 1\n",
    "\n",
    "NAMEX = 'Good X'\n",
    "NAMEY = 'Good Y'\n",
    "\n",
    "XMAX = LBAR*MPLX*4   # for plot bounds\n",
    "YMAX = LBAR*MPLY*4\n",
    "\n",
    "N = 50      # num of datapoints to plot\n",
    "QX =  np.linspace(0, XMAX, N)"
   ]
  },
  {
   "cell_type": "markdown",
   "metadata": {
    "collapsed": true
   },
   "source": [
    "This function will lbe used to plot Home's production possibility frontier (PPF) for any set of $MPL_X$, $MPL_Y$ and $\\bar L$."
   ]
  },
  {
   "cell_type": "code",
   "execution_count": 4,
   "metadata": {
    "collapsed": true
   },
   "outputs": [],
   "source": [
    "def ppf(mplx, mply, lbar, show = True, title='Home'):   \n",
    "    '''Plot a linear PPF diagram \n",
    "       show == False delays plt.show() to allow other elements to be plotted first'''\n",
    "    qy = mply*lbar - (mply/mplx) * QX\n",
    "    plt.plot(QX, qy, linewidth=2, label='PPF')\n",
    "    plt.axis([0,XMAX,0,YMAX])\n",
    "    plt.xlabel(NAMEX), plt.ylabel(NAMEY), plt.title(title)\n",
    "    plt.text(0.3*XMAX, 0.9*YMAX, \n",
    "             r'   $\\frac{MPL_X}{MPL_Y}=$'+'{:3.2f}'.format(mplx/mply))\n",
    "    if show: #use False for subplots\n",
    "        plt.show();"
   ]
  },
  {
   "cell_type": "code",
   "execution_count": 5,
   "metadata": {},
   "outputs": [
    {
     "data": {
      "image/png": "[encoded data removed]",
      "text/plain": [
       "<matplotlib.figure.Figure at 0x1ede22a61d0>"
      ]
     },
     "metadata": {},
     "output_type": "display_data"
    }
   ],
   "source": [
    "ppf(mplx=2, mply=1, lbar=200)"
   ]
  },
  {
   "cell_type": "markdown",
   "metadata": {},
   "source": [
    "### Interactive diagram\n",
    "The next cell's output is only visible and interactive if are running this on a jupyter notebook server."
   ]
  },
  {
   "cell_type": "code",
   "execution_count": 11,
   "metadata": {},
   "outputs": [
    {
     "data": {
      "application/vnd.jupyter.widget-view+json": {
       "model_id": "653ce474b64743f8ba5ac4ce63d67292"
      }
     },
     "metadata": {},
     "output_type": "display_data"
    }
   ],
   "source": [
    "interact(ppf, mplx=(0.5,2,0.1), mply=(0.5,2,0.1), lbar=(50, 200, 10),show=fixed(True), title=fixed('Home'));"
   ]
  },
  {
   "cell_type": "markdown",
   "metadata": {},
   "source": [
    "## Opening to Trade"
   ]
  },
  {
   "cell_type": "code",
   "execution_count": 7,
   "metadata": {},
   "outputs": [
    {
     "data": {
      "image/png": "[encoded data removed]",
      "text/plain": [
       "<matplotlib.figure.Figure at 0x1ede2810da0>"
      ]
     },
     "metadata": {},
     "output_type": "display_data"
    }
   ],
   "source": [
    "foreign = ppf\n",
    "\n",
    "f1 = plt.figure(1, figsize =(12,12))\n",
    "#ax = plt.gca().set_aspect('equal')\n",
    "plt.subplot(121, aspect='equal')\n",
    "ppf(1, 2, 200, show = False)\n",
    "plt.subplot(122, aspect='equal')\n",
    "foreign(2, 1, 200, show=False, title='Foreign')\n",
    "plt.ylabel('');\n"
   ]
  },
  {
   "cell_type": "code",
   "execution_count": 8,
   "metadata": {
    "collapsed": true
   },
   "outputs": [],
   "source": [
    "def homeopen(pw, mplx, mply, lbar, show=True, title='Home'):\n",
    "    ppf(mplx, mply, lbar, show=False, title=title)\n",
    "    if pw<(mplx/mply):\n",
    "        plt.plot(QX, lbar*mply -pw*QX, ':')\n",
    "    else:\n",
    "        plt.plot(QX, lbar*mplx*pw -pw*QX, ':')"
   ]
  },
  {
   "cell_type": "code",
   "execution_count": 9,
   "metadata": {},
   "outputs": [
    {
     "data": {
      "image/png": "[encoded data removed]",
      "text/plain": [
       "<matplotlib.figure.Figure at 0x1ede2824f60>"
      ]
     },
     "metadata": {},
     "output_type": "display_data"
    }
   ],
   "source": [
    "homeopen(pw=1/4, mplx=1,mply=2,lbar=100, title='open to trade')\n",
    "plt.show()"
   ]
  },
  {
   "cell_type": "code",
   "execution_count": 10,
   "metadata": {},
   "outputs": [
    {
     "data": {
      "image/png": "[encoded data removed]",
      "text/plain": [
       "<matplotlib.figure.Figure at 0x1ede23aacf8>"
      ]
     },
     "metadata": {},
     "output_type": "display_data"
    }
   ],
   "source": [
    "homeopen(pw=4, mplx=1,mply=2,lbar=100, title='open to trade')\n",
    "plt.show()"
   ]
  }
 ],
 "metadata": {
  "hide_input": false,
  "kernelspec": {
   "display_name": "Python [default]",
   "language": "python",
   "name": "python3"
  },
  "language_info": {
   "codemirror_mode": {
    "name": "ipython",
    "version": 3
   },
   "file_extension": ".py",
   "mimetype": "text/x-python",
   "name": "python",
   "nbconvert_exporter": "python",
   "pygments_lexer": "ipython3",
   "version": "3.6.1"
  },
  "nikola": {
   "category": "",
   "date": "2017-08-28 00:26:05 UTC-04:00",
   "description": "",
   "link": "",
   "slug": "Ricardian Trade",
   "tags": "",
   "title": "Ricardian Trade",
   "type": "text"
  },
  "varInspector": {
   "cols": {
    "lenName": 16,
    "lenType": 16,
    "lenVar": 40
   },
   "kernels_config": {
    "python": {
     "delete_cmd_postfix": "",
     "delete_cmd_prefix": "del ",
     "library": "var_list.py",
     "varRefreshCmd": "print(var_dic_list())"
    },
    "r": {
     "delete_cmd_postfix": ") ",
     "delete_cmd_prefix": "rm(",
     "library": "var_list.r",
     "varRefreshCmd": "cat(var_dic_list()) "
    }
   },
   "types_to_exclude": [
    "module",
    "function",
    "builtin_function_or_method",
    "instance",
    "_Feature"
   ],
   "window_display": false
  },
  "widgets": {
   "application/vnd.jupyter.widget-state+json": {
    "state": {
     "0159aed326fc46d9aef49918ab16dd1f": {
      "model_module": "jupyter-js-widgets",
      "model_module_version": "~2.1.4",
      "model_name": "VBoxModel",
      "state": {
       "_dom_classes": [
        "widget-interact"
       ],
       "_model_module_version": "~2.1.4",
       "_view_module_version": "~2.1.4",
       "children": [
        "IPY_MODEL_7c4b86d520cd475cacf22322bbf7c96e",
        "IPY_MODEL_9c3379a7e3564d0d804e5405e19b9eb2",
        "IPY_MODEL_7d3cd84ade4644ecbc23384af8951fa5",
        "IPY_MODEL_df6e6c77b93b49dba6a941f757ea4d4d"
       ],
       "layout": "IPY_MODEL_156b8976a202406eb0805fa6ba44dcc2"
      }
     },
     "0756df91be0743f6b9d0924756d5c958": {
      "model_module": "jupyter-js-widgets",
      "model_module_version": "~2.1.4",
      "model_name": "LayoutModel",
      "state": {
       "_model_module_version": "~2.1.4",
       "_view_module_version": "~2.1.4"
      }
     },
     "095212f894f146a482a07f3d0c8c35be": {
      "model_module": "jupyter-js-widgets",
      "model_module_version": "~2.1.4",
      "model_name": "LayoutModel",
      "state": {
       "_model_module_version": "~2.1.4",
       "_view_module_version": "~2.1.4"
      }
     },
     "0abdff792a8a4d479940074c52e1245f": {
      "model_module": "jupyter-js-widgets",
      "model_module_version": "~2.1.4",
      "model_name": "LayoutModel",
      "state": {
       "_model_module_version": "~2.1.4",
       "_view_module_version": "~2.1.4"
      }
     },
     "15612b10f49b463cb9fdbedcaaea5f9d": {
      "model_module": "jupyter-js-widgets",
      "model_module_version": "~2.1.4",
      "model_name": "LayoutModel",
      "state": {
       "_model_module_version": "~2.1.4",
       "_view_module_version": "~2.1.4"
      }
     },
     "156b8976a202406eb0805fa6ba44dcc2": {
      "model_module": "jupyter-js-widgets",
      "model_module_version": "~2.1.4",
      "model_name": "LayoutModel",
      "state": {
       "_model_module_version": "~2.1.4",
       "_view_module_version": "~2.1.4"
      }
     },
     "164a31e85c624183bf9f3f9751fdc221": {
      "model_module": "jupyter-js-widgets",
      "model_module_version": "~2.1.4",
      "model_name": "LayoutModel",
      "state": {
       "_model_module_version": "~2.1.4",
       "_view_module_version": "~2.1.4"
      }
     },
     "18195282e50a4269bf24c1e80b8eec42": {
      "model_module": "jupyter-js-widgets",
      "model_module_version": "~2.1.4",
      "model_name": "LayoutModel",
      "state": {
       "_model_module_version": "~2.1.4",
       "_view_module_version": "~2.1.4"
      }
     },
     "1d25dd621a5049a287742a81c5c58feb": {
      "model_module": "jupyter-js-widgets",
      "model_module_version": "~2.1.4",
      "model_name": "LayoutModel",
      "state": {
       "_model_module_version": "~2.1.4",
       "_view_module_version": "~2.1.4"
      }
     },
     "1ea8af5c8d614ca797e9818092431c9c": {
      "model_module": "jupyter-js-widgets",
      "model_module_version": "~2.1.4",
      "model_name": "LayoutModel",
      "state": {
       "_model_module_version": "~2.1.4",
       "_view_module_version": "~2.1.4"
      }
     },
     "1ed74e2aa3fa4f23a7cc6efd2e9e709e": {
      "model_module": "jupyter-js-widgets",
      "model_module_version": "~2.1.4",
      "model_name": "TextModel",
      "state": {
       "_model_module_version": "~2.1.4",
       "_view_module_version": "~2.1.4",
       "description": "title",
       "layout": "IPY_MODEL_b24bab5fd4e64a0dbe4d3206e850496d",
       "value": "Home"
      }
     },
     "242e2b1a360744f8ab86a4609ef82603": {
      "model_module": "jupyter-js-widgets",
      "model_module_version": "~2.1.4",
      "model_name": "LayoutModel",
      "state": {
       "_model_module_version": "~2.1.4",
       "_view_module_version": "~2.1.4"
      }
     },
     "29fa78dcf03c4425b11ec880810de509": {
      "model_module": "jupyter-js-widgets",
      "model_module_version": "~2.1.4",
      "model_name": "OutputModel",
      "state": {
       "_dom_classes": [],
       "_model_module": "jupyter-js-widgets",
       "_model_module_version": "~2.1.4",
       "_view_module": "jupyter-js-widgets",
       "_view_module_version": "~2.1.4",
       "layout": "IPY_MODEL_5ba81efc443949e4a7a52cca80f4b860",
       "msg_throttle": 1
      }
     },
     "36196dee74c240d09b8cbf3279833ce3": {
      "model_module": "jupyter-js-widgets",
      "model_module_version": "~2.1.4",
      "model_name": "LayoutModel",
      "state": {
       "_model_module_version": "~2.1.4",
       "_view_module_version": "~2.1.4"
      }
     },
     "36bf0bf9b55f4ccaab24f20e69014ca4": {
      "model_module": "jupyter-js-widgets",
      "model_module_version": "~2.1.4",
      "model_name": "LayoutModel",
      "state": {
       "_model_module_version": "~2.1.4",
       "_view_module_version": "~2.1.4"
      }
     },
     "40af85f2a9ff494f8e684bafe870dcc2": {
      "model_module": "jupyter-js-widgets",
      "model_module_version": "~2.1.4",
      "model_name": "VBoxModel",
      "state": {
       "_dom_classes": [
        "widget-interact"
       ],
       "_model_module_version": "~2.1.4",
       "_view_module_version": "~2.1.4",
       "children": [
        "IPY_MODEL_7aab19c7485446f5afcdb0cb869e68a3",
        "IPY_MODEL_ed63ad4bbe6844bfa42a961f2483c11d",
        "IPY_MODEL_6de109b912ec459ebda8d5efd9530341",
        "IPY_MODEL_ed1b336fe38c498b9ab6beb18b62feb4",
        "IPY_MODEL_e24b4e8420ac49cbace928f4c8d6b78e"
       ],
       "layout": "IPY_MODEL_164a31e85c624183bf9f3f9751fdc221"
      }
     },
     "49559e4f167c42b1a37f06cdd1b0e81f": {
      "model_module": "jupyter-js-widgets",
      "model_module_version": "~2.1.4",
      "model_name": "LayoutModel",
      "state": {
       "_model_module_version": "~2.1.4",
       "_view_module_version": "~2.1.4"
      }
     },
     "4a4f6ebafaff431f841eea2c64ff484d": {
      "model_module": "jupyter-js-widgets",
      "model_module_version": "~2.1.4",
      "model_name": "FloatSliderModel",
      "state": {
       "_model_module_version": "~2.1.4",
       "_view_module_version": "~2.1.4",
       "description": "mplx",
       "layout": "IPY_MODEL_18195282e50a4269bf24c1e80b8eec42",
       "max": 2,
       "min": 0.5,
       "step": 0.1,
       "value": 1.2000000000000002
      }
     },
     "5360cf17f8ef46d0b547d19fae0ab902": {
      "model_module": "jupyter-js-widgets",
      "model_module_version": "~2.1.4",
      "model_name": "LayoutModel",
      "state": {
       "_model_module_version": "~2.1.4",
       "_view_module_version": "~2.1.4"
      }
     },
     "54667c32ce744d0c83bc89ecd65e2465": {
      "model_module": "jupyter-js-widgets",
      "model_module_version": "~2.1.4",
      "model_name": "LayoutModel",
      "state": {
       "_model_module_version": "~2.1.4",
       "_view_module_version": "~2.1.4"
      }
     },
     "58efc2cddb8b4fcb89d8216651677ab8": {
      "model_module": "jupyter-js-widgets",
      "model_module_version": "~2.1.4",
      "model_name": "SliderStyleModel",
      "state": {
       "_model_module_version": "~2.1.4",
       "_view_module_version": "~2.1.4"
      }
     },
     "5ba81efc443949e4a7a52cca80f4b860": {
      "model_module": "jupyter-js-widgets",
      "model_module_version": "~2.1.4",
      "model_name": "LayoutModel",
      "state": {
       "_model_module_version": "~2.1.4",
       "_view_module_version": "~2.1.4"
      }
     },
     "5f65948411bc4d139c45ade66b6569b9": {
      "model_module": "jupyter-js-widgets",
      "model_module_version": "~2.1.4",
      "model_name": "LayoutModel",
      "state": {
       "_model_module_version": "~2.1.4",
       "_view_module_version": "~2.1.4"
      }
     },
     "615b016505ec4775999550c89fa05eb9": {
      "model_module": "jupyter-js-widgets",
      "model_module_version": "~2.1.4",
      "model_name": "LayoutModel",
      "state": {
       "_model_module_version": "~2.1.4",
       "_view_module_version": "~2.1.4"
      }
     },
     "635ea2ea004f4b43a5d7071b30d6c195": {
      "model_module": "jupyter-js-widgets",
      "model_module_version": "~2.1.4",
      "model_name": "FloatSliderModel",
      "state": {
       "_model_module_version": "~2.1.4",
       "_view_module_version": "~2.1.4",
       "description": "mply",
       "layout": "IPY_MODEL_8beb7f62e9d94393b1de327403d34b34",
       "max": 2,
       "min": 0.5,
       "step": 0.1,
       "value": 1.2000000000000002
      }
     },
     "653ce474b64743f8ba5ac4ce63d67292": {
      "model_module": "jupyter-js-widgets",
      "model_module_version": "~2.1.4",
      "model_name": "VBoxModel",
      "state": {
       "_dom_classes": [
        "widget-interact"
       ],
       "_model_module_version": "~2.1.4",
       "_view_module_version": "~2.1.4",
       "children": [
        "IPY_MODEL_fdeff867d54a4d468d3dd9ed639a28e9",
        "IPY_MODEL_d3b3f210345849358b039b15696df77b",
        "IPY_MODEL_c77edd2e8066464bbb527d3d69672829",
        "IPY_MODEL_29fa78dcf03c4425b11ec880810de509"
       ],
       "layout": "IPY_MODEL_6b0742d9761c4740b4bfdfeaa405b007"
      }
     },
     "6b0742d9761c4740b4bfdfeaa405b007": {
      "model_module": "jupyter-js-widgets",
      "model_module_version": "~2.1.4",
      "model_name": "LayoutModel",
      "state": {
       "_model_module_version": "~2.1.4",
       "_view_module_version": "~2.1.4"
      }
     },
     "6de109b912ec459ebda8d5efd9530341": {
      "model_module": "jupyter-js-widgets",
      "model_module_version": "~2.1.4",
      "model_name": "IntSliderModel",
      "state": {
       "_model_module_version": "~2.1.4",
       "_view_module_version": "~2.1.4",
       "description": "lbar",
       "layout": "IPY_MODEL_758108f1e45948ccb41fd20fc9cdb9a6",
       "max": 200,
       "min": 50,
       "step": 10,
       "style": "IPY_MODEL_b40aad89300143cb9a5d9be6e3668bf2",
       "value": 120
      }
     },
     "6e959f6cfde2444286320f57b37865fb": {
      "model_module": "jupyter-js-widgets",
      "model_module_version": "~2.1.4",
      "model_name": "OutputModel",
      "state": {
       "_dom_classes": [],
       "_model_module": "jupyter-js-widgets",
       "_model_module_version": "~2.1.4",
       "_view_module": "jupyter-js-widgets",
       "_view_module_version": "~2.1.4",
       "layout": "IPY_MODEL_15612b10f49b463cb9fdbedcaaea5f9d",
       "msg_throttle": 1
      }
     },
     "708329a5524b4c0fb9a8ce7f8e279e40": {
      "model_module": "jupyter-js-widgets",
      "model_module_version": "~2.1.4",
      "model_name": "FloatSliderModel",
      "state": {
       "_model_module_version": "~2.1.4",
       "_view_module_version": "~2.1.4",
       "description": "mply",
       "layout": "IPY_MODEL_95e981897a9b4ae996c6f5c581475924",
       "max": 2,
       "min": 0.5,
       "step": 0.1,
       "value": 1.2000000000000002
      }
     },
     "758108f1e45948ccb41fd20fc9cdb9a6": {
      "model_module": "jupyter-js-widgets",
      "model_module_version": "~2.1.4",
      "model_name": "LayoutModel",
      "state": {
       "_model_module_version": "~2.1.4",
       "_view_module_version": "~2.1.4"
      }
     },
     "7581f6584fa0446d83603e823c00550e": {
      "model_module": "jupyter-js-widgets",
      "model_module_version": "~2.1.4",
      "model_name": "VBoxModel",
      "state": {
       "_dom_classes": [
        "widget-interact"
       ],
       "_model_module_version": "~2.1.4",
       "_view_module_version": "~2.1.4",
       "children": [
        "IPY_MODEL_4a4f6ebafaff431f841eea2c64ff484d",
        "IPY_MODEL_708329a5524b4c0fb9a8ce7f8e279e40",
        "IPY_MODEL_d4ff221c8ab94615ae1c0b934a03fa89",
        "IPY_MODEL_6e959f6cfde2444286320f57b37865fb"
       ],
       "layout": "IPY_MODEL_615b016505ec4775999550c89fa05eb9"
      }
     },
     "7aab19c7485446f5afcdb0cb869e68a3": {
      "model_module": "jupyter-js-widgets",
      "model_module_version": "~2.1.4",
      "model_name": "FloatSliderModel",
      "state": {
       "_model_module_version": "~2.1.4",
       "_view_module_version": "~2.1.4",
       "description": "mplx",
       "layout": "IPY_MODEL_0abdff792a8a4d479940074c52e1245f",
       "max": 2,
       "min": 0.5,
       "step": 0.1,
       "value": 1.2000000000000002
      }
     },
     "7c4b86d520cd475cacf22322bbf7c96e": {
      "model_module": "jupyter-js-widgets",
      "model_module_version": "~2.1.4",
      "model_name": "FloatSliderModel",
      "state": {
       "_model_module_version": "~2.1.4",
       "_view_module_version": "~2.1.4",
       "description": "mplx",
       "layout": "IPY_MODEL_8cd20a4e26b14525b69b6cb2dd831a21",
       "max": 2,
       "min": 0.5,
       "step": 0.1,
       "value": 1.2000000000000002
      }
     },
     "7d3cd84ade4644ecbc23384af8951fa5": {
      "model_module": "jupyter-js-widgets",
      "model_module_version": "~2.1.4",
      "model_name": "IntSliderModel",
      "state": {
       "_model_module_version": "~2.1.4",
       "_view_module_version": "~2.1.4",
       "description": "lbar",
       "layout": "IPY_MODEL_242e2b1a360744f8ab86a4609ef82603",
       "max": 200,
       "min": 50,
       "step": 10,
       "style": "IPY_MODEL_c443fdf84de34aec88079dd792e4c335",
       "value": 150
      }
     },
     "8743e022781b4b9b86b3ebc6537c63a1": {
      "model_module": "jupyter-js-widgets",
      "model_module_version": "~2.1.4",
      "model_name": "OutputModel",
      "state": {
       "_dom_classes": [],
       "_model_module": "jupyter-js-widgets",
       "_model_module_version": "~2.1.4",
       "_view_module": "jupyter-js-widgets",
       "_view_module_version": "~2.1.4",
       "layout": "IPY_MODEL_5360cf17f8ef46d0b547d19fae0ab902",
       "msg_throttle": 1
      }
     },
     "8beb7f62e9d94393b1de327403d34b34": {
      "model_module": "jupyter-js-widgets",
      "model_module_version": "~2.1.4",
      "model_name": "LayoutModel",
      "state": {
       "_model_module_version": "~2.1.4",
       "_view_module_version": "~2.1.4"
      }
     },
     "8cd20a4e26b14525b69b6cb2dd831a21": {
      "model_module": "jupyter-js-widgets",
      "model_module_version": "~2.1.4",
      "model_name": "LayoutModel",
      "state": {
       "_model_module_version": "~2.1.4",
       "_view_module_version": "~2.1.4"
      }
     },
     "95e981897a9b4ae996c6f5c581475924": {
      "model_module": "jupyter-js-widgets",
      "model_module_version": "~2.1.4",
      "model_name": "LayoutModel",
      "state": {
       "_model_module_version": "~2.1.4",
       "_view_module_version": "~2.1.4"
      }
     },
     "9c3379a7e3564d0d804e5405e19b9eb2": {
      "model_module": "jupyter-js-widgets",
      "model_module_version": "~2.1.4",
      "model_name": "FloatSliderModel",
      "state": {
       "_model_module_version": "~2.1.4",
       "_view_module_version": "~2.1.4",
       "description": "mply",
       "layout": "IPY_MODEL_f5c328550842427593a7981b8d03aba2",
       "max": 2,
       "min": 0.5,
       "step": 0.1,
       "value": 1.2000000000000002
      }
     },
     "b0bbd14b83e045ebadf965847ef83734": {
      "model_module": "jupyter-js-widgets",
      "model_module_version": "~2.1.4",
      "model_name": "VBoxModel",
      "state": {
       "_dom_classes": [
        "widget-interact"
       ],
       "_model_module_version": "~2.1.4",
       "_view_module_version": "~2.1.4",
       "children": [
        "IPY_MODEL_e1bdb352ea6a4cfa93d1effe78c1111b",
        "IPY_MODEL_635ea2ea004f4b43a5d7071b30d6c195",
        "IPY_MODEL_c893c8bc56824f898f366f6a70057d9b",
        "IPY_MODEL_1ed74e2aa3fa4f23a7cc6efd2e9e709e",
        "IPY_MODEL_8743e022781b4b9b86b3ebc6537c63a1"
       ],
       "layout": "IPY_MODEL_095212f894f146a482a07f3d0c8c35be"
      }
     },
     "b24bab5fd4e64a0dbe4d3206e850496d": {
      "model_module": "jupyter-js-widgets",
      "model_module_version": "~2.1.4",
      "model_name": "LayoutModel",
      "state": {
       "_model_module_version": "~2.1.4",
       "_view_module_version": "~2.1.4"
      }
     },
     "b40aad89300143cb9a5d9be6e3668bf2": {
      "model_module": "jupyter-js-widgets",
      "model_module_version": "~2.1.4",
      "model_name": "SliderStyleModel",
      "state": {
       "_model_module_version": "~2.1.4",
       "_view_module_version": "~2.1.4"
      }
     },
     "c443fdf84de34aec88079dd792e4c335": {
      "model_module": "jupyter-js-widgets",
      "model_module_version": "~2.1.4",
      "model_name": "SliderStyleModel",
      "state": {
       "_model_module_version": "~2.1.4",
       "_view_module_version": "~2.1.4"
      }
     },
     "c77edd2e8066464bbb527d3d69672829": {
      "model_module": "jupyter-js-widgets",
      "model_module_version": "~2.1.4",
      "model_name": "IntSliderModel",
      "state": {
       "_model_module_version": "~2.1.4",
       "_view_module_version": "~2.1.4",
       "description": "lbar",
       "layout": "IPY_MODEL_d44d0e3d95be4201803e51fa4f133600",
       "max": 200,
       "min": 50,
       "step": 10,
       "style": "IPY_MODEL_58efc2cddb8b4fcb89d8216651677ab8",
       "value": 120
      }
     },
     "c893c8bc56824f898f366f6a70057d9b": {
      "model_module": "jupyter-js-widgets",
      "model_module_version": "~2.1.4",
      "model_name": "IntSliderModel",
      "state": {
       "_model_module_version": "~2.1.4",
       "_view_module_version": "~2.1.4",
       "description": "lbar",
       "layout": "IPY_MODEL_0756df91be0743f6b9d0924756d5c958",
       "max": 200,
       "min": 50,
       "step": 10,
       "style": "IPY_MODEL_c9c8b8c7b53641599185f4217dc484ec",
       "value": 120
      }
     },
     "c9c8b8c7b53641599185f4217dc484ec": {
      "model_module": "jupyter-js-widgets",
      "model_module_version": "~2.1.4",
      "model_name": "SliderStyleModel",
      "state": {
       "_model_module_version": "~2.1.4",
       "_view_module_version": "~2.1.4"
      }
     },
     "d3b3f210345849358b039b15696df77b": {
      "model_module": "jupyter-js-widgets",
      "model_module_version": "~2.1.4",
      "model_name": "FloatSliderModel",
      "state": {
       "_model_module_version": "~2.1.4",
       "_view_module_version": "~2.1.4",
       "description": "mply",
       "layout": "IPY_MODEL_d6ac37b9a451450d869f983ab38e836d",
       "max": 2,
       "min": 0.5,
       "step": 0.1,
       "value": 1.2000000000000002
      }
     },
     "d44d0e3d95be4201803e51fa4f133600": {
      "model_module": "jupyter-js-widgets",
      "model_module_version": "~2.1.4",
      "model_name": "LayoutModel",
      "state": {
       "_model_module_version": "~2.1.4",
       "_view_module_version": "~2.1.4"
      }
     },
     "d4ff221c8ab94615ae1c0b934a03fa89": {
      "model_module": "jupyter-js-widgets",
      "model_module_version": "~2.1.4",
      "model_name": "IntSliderModel",
      "state": {
       "_model_module_version": "~2.1.4",
       "_view_module_version": "~2.1.4",
       "description": "lbar",
       "layout": "IPY_MODEL_5f65948411bc4d139c45ade66b6569b9",
       "max": 200,
       "min": 50,
       "step": 10,
       "style": "IPY_MODEL_fec5667e562b4f2791fc896d7160726c",
       "value": 120
      }
     },
     "d6ac37b9a451450d869f983ab38e836d": {
      "model_module": "jupyter-js-widgets",
      "model_module_version": "~2.1.4",
      "model_name": "LayoutModel",
      "state": {
       "_model_module_version": "~2.1.4",
       "_view_module_version": "~2.1.4"
      }
     },
     "df6e6c77b93b49dba6a941f757ea4d4d": {
      "model_module": "jupyter-js-widgets",
      "model_module_version": "~2.1.4",
      "model_name": "OutputModel",
      "state": {
       "_dom_classes": [],
       "_model_module": "jupyter-js-widgets",
       "_model_module_version": "~2.1.4",
       "_view_module": "jupyter-js-widgets",
       "_view_module_version": "~2.1.4",
       "layout": "IPY_MODEL_49559e4f167c42b1a37f06cdd1b0e81f",
       "msg_throttle": 1
      }
     },
     "e1bdb352ea6a4cfa93d1effe78c1111b": {
      "model_module": "jupyter-js-widgets",
      "model_module_version": "~2.1.4",
      "model_name": "FloatSliderModel",
      "state": {
       "_model_module_version": "~2.1.4",
       "_view_module_version": "~2.1.4",
       "description": "mplx",
       "layout": "IPY_MODEL_54667c32ce744d0c83bc89ecd65e2465",
       "max": 2,
       "min": 0.5,
       "step": 0.1,
       "value": 1.2000000000000002
      }
     },
     "e24b4e8420ac49cbace928f4c8d6b78e": {
      "model_module": "jupyter-js-widgets",
      "model_module_version": "~2.1.4",
      "model_name": "OutputModel",
      "state": {
       "_dom_classes": [],
       "_model_module": "jupyter-js-widgets",
       "_model_module_version": "~2.1.4",
       "_view_module": "jupyter-js-widgets",
       "_view_module_version": "~2.1.4",
       "layout": "IPY_MODEL_36196dee74c240d09b8cbf3279833ce3",
       "msg_throttle": 1
      }
     },
     "ed1b336fe38c498b9ab6beb18b62feb4": {
      "model_module": "jupyter-js-widgets",
      "model_module_version": "~2.1.4",
      "model_name": "TextModel",
      "state": {
       "_model_module_version": "~2.1.4",
       "_view_module_version": "~2.1.4",
       "description": "title",
       "layout": "IPY_MODEL_1d25dd621a5049a287742a81c5c58feb",
       "value": "Home"
      }
     },
     "ed63ad4bbe6844bfa42a961f2483c11d": {
      "model_module": "jupyter-js-widgets",
      "model_module_version": "~2.1.4",
      "model_name": "FloatSliderModel",
      "state": {
       "_model_module_version": "~2.1.4",
       "_view_module_version": "~2.1.4",
       "description": "mply",
       "layout": "IPY_MODEL_36bf0bf9b55f4ccaab24f20e69014ca4",
       "max": 2,
       "min": 0.5,
       "step": 0.1,
       "value": 1.2000000000000002
      }
     },
     "f5c328550842427593a7981b8d03aba2": {
      "model_module": "jupyter-js-widgets",
      "model_module_version": "~2.1.4",
      "model_name": "LayoutModel",
      "state": {
       "_model_module_version": "~2.1.4",
       "_view_module_version": "~2.1.4"
      }
     },
     "fdeff867d54a4d468d3dd9ed639a28e9": {
      "model_module": "jupyter-js-widgets",
      "model_module_version": "~2.1.4",
      "model_name": "FloatSliderModel",
      "state": {
       "_model_module_version": "~2.1.4",
       "_view_module_version": "~2.1.4",
       "description": "mplx",
       "layout": "IPY_MODEL_1ea8af5c8d614ca797e9818092431c9c",
       "max": 2,
       "min": 0.5,
       "step": 0.1,
       "value": 1.2000000000000002
      }
     },
     "fec5667e562b4f2791fc896d7160726c": {
      "model_module": "jupyter-js-widgets",
      "model_module_version": "~2.1.4",
      "model_name": "SliderStyleModel",
      "state": {
       "_model_module_version": "~2.1.4",
       "_view_module_version": "~2.1.4"
      }
     }
    },
    "version_major": 1,
    "version_minor": 0
   }
  }
 },
 "nbformat": 4,
 "nbformat_minor": 2
}
