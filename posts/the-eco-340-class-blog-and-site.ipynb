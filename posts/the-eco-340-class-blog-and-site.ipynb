{
  "cells": [
    {
      "cell_type": "markdown",
      "source": [
        "# Welcome to Eco 340\n",
        "\nSyllabus and handouts under course materials."
      ],
      "metadata": {}
    }
  ],
  "metadata": {
    "kernelspec": {
      "name": "python3",
      "language": "python",
      "display_name": "Python 3"
    },
    "nikola": {
      "category": "",
      "date": "2017-08-26 14:24:09 UTC-04:00",
      "description": "",
      "link": "",
      "slug": "the-eco-340-class-blog-and-site",
      "tags": "",
      "title": "The Eco 340 class blog and site",
      "type": "text"
    },
    "kernel_info": {
      "name": "python3"
    },
    "language_info": {
      "name": "python",
      "version": "3.6.2",
      "mimetype": "text/x-python",
      "codemirror_mode": {
        "name": "ipython",
        "version": 3
      },
      "pygments_lexer": "ipython3",
      "nbconvert_exporter": "python",
      "file_extension": ".py"
    },
    "nteract": {
      "version": "0.2.0"
    }
  },
  "nbformat": 4,
  "nbformat_minor": 2
}