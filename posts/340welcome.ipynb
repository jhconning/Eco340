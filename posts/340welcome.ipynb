{
 "cells": [
  {
   "cell_type": "markdown",
   "metadata": {},
   "source": [
    "This is the Fall 2017 class website for Economics 340, International Trade, taught at Hunter College. \n",
    "\n",
    "Here you can find links to the course:\n",
    "\n",
    " - [syllabus](https://drive.google.com/open?id=0B_Z0VAlMmIEpRU9Zc2hDZV9NZjA)\n",
    " - [lectures slides](https://docs.google.com/presentation/d/1OdIEQEIuW6WwHo8mO6LCW3F0MsQ2yfdJdReE6n0Cq2Y/edit?usp=sharing) and other handouts.\n",
    " - [calendar](https://eco340.netlify.com/pages/materials/), online forms and other handouts.\n",
    " - blog posts\n",
    " \n",
    "\n",
    "There has rarely been a more politically interesting and important time to study international trade. \n",
    "\n",
    "As you will soon discover the field of International trade is about much more than just about what determines the pattern of trade, and the movements of labor and capital across borders; it's about nothing less than the determinants of the world distribution of income and power and therefore also of the distribution of incomes and economic interests within countries and the political economy reactions that in turn can engender. Trade, automization, robots, artificial intelligence, immigration; the rise of global corporations like Amazon, Google; trade pacts such as NAFTA and political unions such as the EU. Do these represent threats or opportunities and for whom?  \n",
    "\n",
    "Billions of people have been raised out of abject poverty over the past 30 years, mostly in large and poor countries but fast growing countries such as China and India which have become much more deeply integrated into the world economy in this period. But what of the workers in developed countries? How have they been affected by globalization in this period?  \n",
    "\n",
    "Many people have tried to explain Britain's 2016 vote to exit the European Union (Brexit) as well as Donald Trump's election in the United States to politicians tapping into a backlash against globalization and immigration particularly among certain groups said to have been hard hit by the effects of past trade agreements and immigration.  New nationalistic populist, protectionist discourses have called for the ending or the renegotiation of trade pacts, the raising of tariffs, stricter controls on immigration and other policies to 'put America first.'  In this course we'll study models and empirical evidence to understand and make sense of these events and sort through the differing interpretations.      "
   ]
  },
  {
   "cell_type": "code",
   "execution_count": null,
   "metadata": {
    "collapsed": true
   },
   "outputs": [],
   "source": []
  }
 ],
 "metadata": {
  "hide_input": false,
  "kernel_info": {
   "name": "python3"
  },
  "kernelspec": {
   "display_name": "Python [default]",
   "language": "python",
   "name": "python3"
  },
  "language_info": {
   "codemirror_mode": {
    "name": "ipython",
    "version": 3
   },
   "file_extension": ".py",
   "mimetype": "text/x-python",
   "name": "python",
   "nbconvert_exporter": "python",
   "pygments_lexer": "ipython3",
   "version": "3.6.1"
  },
  "nikola": {
   "category": "",
   "date": "2017-08-28 00:26:05 UTC-04:00",
   "description": "",
   "link": "",
   "slug": "340welcome",
   "tags": "",
   "title": "340welcome",
   "type": "text"
  },
  "nteract": {
   "version": "0.2.0"
  }
 },
 "nbformat": 4,
 "nbformat_minor": 2
}
